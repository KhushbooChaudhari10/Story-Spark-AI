{
 "cells": [
  {
   "cell_type": "code",
   "execution_count": 41,
   "id": "d0cd9727",
   "metadata": {},
   "outputs": [],
   "source": [
    "import pandas as pd\n",
    "import re\n",
    "import nltk\n",
    "from nltk import word_tokenize, pos_tag\n",
    "from nltk.corpus import stopwords\n",
    "from sklearn.feature_extraction.text import TfidfVectorizer\n",
    "from sklearn.decomposition import NMF\n",
    "from collections import Counter\n",
    "import matplotlib.pyplot as plt\n",
    "\n"
   ]
  },
  {
   "cell_type": "code",
   "execution_count": 42,
   "id": "242ab8ff",
   "metadata": {},
   "outputs": [
    {
     "name": "stderr",
     "output_type": "stream",
     "text": [
      "[nltk_data] Downloading package punkt to\n",
      "[nltk_data]     C:\\Users\\Hp\\AppData\\Roaming\\nltk_data...\n",
      "[nltk_data]   Package punkt is already up-to-date!\n",
      "[nltk_data] Downloading package averaged_perceptron_tagger to\n",
      "[nltk_data]     C:\\Users\\Hp\\AppData\\Roaming\\nltk_data...\n",
      "[nltk_data]   Package averaged_perceptron_tagger is already up-to-\n",
      "[nltk_data]       date!\n",
      "[nltk_data] Downloading package stopwords to\n",
      "[nltk_data]     C:\\Users\\Hp\\AppData\\Roaming\\nltk_data...\n",
      "[nltk_data]   Package stopwords is already up-to-date!\n"
     ]
    },
    {
     "data": {
      "text/plain": [
       "True"
      ]
     },
     "execution_count": 42,
     "metadata": {},
     "output_type": "execute_result"
    }
   ],
   "source": [
    "# Download NLTK resources\n",
    "nltk.download('punkt')\n",
    "nltk.download('averaged_perceptron_tagger')\n",
    "nltk.download('stopwords')"
   ]
  },
  {
   "cell_type": "code",
   "execution_count": null,
   "id": "e96d586c",
   "metadata": {},
   "outputs": [
    {
     "name": "stderr",
     "output_type": "stream",
     "text": [
      "<>:1: SyntaxWarning: invalid escape sequence '\\S'\n",
      "<>:1: SyntaxWarning: invalid escape sequence '\\S'\n",
      "C:\\Users\\Hp\\AppData\\Local\\Temp\\ipykernel_7084\\3826083902.py:1: SyntaxWarning: invalid escape sequence '\\S'\n",
      "  df = pd.read_csv(\"D:\\Story-Spark-AI\\Python_Practice\\data analysis\\children_books.csv\")\n"
     ]
    },
    {
     "data": {
      "text/html": [
       "<div>\n",
       "<style scoped>\n",
       "    .dataframe tbody tr th:only-of-type {\n",
       "        vertical-align: middle;\n",
       "    }\n",
       "\n",
       "    .dataframe tbody tr th {\n",
       "        vertical-align: top;\n",
       "    }\n",
       "\n",
       "    .dataframe thead th {\n",
       "        text-align: right;\n",
       "    }\n",
       "</style>\n",
       "<table border=\"1\" class=\"dataframe\">\n",
       "  <thead>\n",
       "    <tr style=\"text-align: right;\">\n",
       "      <th></th>\n",
       "      <th>Title</th>\n",
       "      <th>Author</th>\n",
       "      <th>Desc</th>\n",
       "      <th>Inerest_age</th>\n",
       "      <th>Reading_age</th>\n",
       "    </tr>\n",
       "  </thead>\n",
       "  <tbody>\n",
       "    <tr>\n",
       "      <th>0</th>\n",
       "      <td>The Girl Who Drank the Moon</td>\n",
       "      <td>Kelly Barnhill</td>\n",
       "      <td>Every year, the evil Protectorate offers a bab...</td>\n",
       "      <td>10-14</td>\n",
       "      <td>10-14</td>\n",
       "    </tr>\n",
       "    <tr>\n",
       "      <th>1</th>\n",
       "      <td>Time Between Us</td>\n",
       "      <td>Tamara Ireland Stone</td>\n",
       "      <td>Sixteen-year-old Anna is struggling to underst...</td>\n",
       "      <td>13+</td>\n",
       "      <td>12+</td>\n",
       "    </tr>\n",
       "    <tr>\n",
       "      <th>2</th>\n",
       "      <td>Girl Out of Water</td>\n",
       "      <td>Nat Luurtsema</td>\n",
       "      <td>Lou Brown's swimming ambitions sank without tr...</td>\n",
       "      <td>13-18</td>\n",
       "      <td>10+</td>\n",
       "    </tr>\n",
       "    <tr>\n",
       "      <th>3</th>\n",
       "      <td>Captive</td>\n",
       "      <td>A J Grainger</td>\n",
       "      <td>Robyn is scared. Ever since the attempted assa...</td>\n",
       "      <td>13+</td>\n",
       "      <td>13</td>\n",
       "    </tr>\n",
       "    <tr>\n",
       "      <th>4</th>\n",
       "      <td>The School of Music</td>\n",
       "      <td>Rachel Bowen and Meurig Bowen Illustrator: Dan...</td>\n",
       "      <td>Welcome to the School of Music. In charge is M...</td>\n",
       "      <td>10+</td>\n",
       "      <td>10+</td>\n",
       "    </tr>\n",
       "  </tbody>\n",
       "</table>\n",
       "</div>"
      ],
      "text/plain": [
       "                         Title  \\\n",
       "0  The Girl Who Drank the Moon   \n",
       "1              Time Between Us   \n",
       "2            Girl Out of Water   \n",
       "3                      Captive   \n",
       "4          The School of Music   \n",
       "\n",
       "                                              Author  \\\n",
       "0                                     Kelly Barnhill   \n",
       "1                               Tamara Ireland Stone   \n",
       "2                                      Nat Luurtsema   \n",
       "3                                       A J Grainger   \n",
       "4  Rachel Bowen and Meurig Bowen Illustrator: Dan...   \n",
       "\n",
       "                                                Desc Inerest_age  \\\n",
       "0  Every year, the evil Protectorate offers a bab...      10-14    \n",
       "1  Sixteen-year-old Anna is struggling to underst...        13+    \n",
       "2  Lou Brown's swimming ambitions sank without tr...      13-18    \n",
       "3  Robyn is scared. Ever since the attempted assa...        13+    \n",
       "4  Welcome to the School of Music. In charge is M...        10+    \n",
       "\n",
       "                            Reading_age  \n",
       "0  10-14                                 \n",
       "1    12+                                 \n",
       "2    10+                                 \n",
       "3     13                                 \n",
       "4    10+                                 "
      ]
     },
     "execution_count": 6,
     "metadata": {},
     "output_type": "execute_result"
    }
   ],
   "source": [
    "#Printing top 5 rows of data\n",
    "df = pd.read_csv(\"D:\\Story-Spark-AI\\Python_Practice\\data analysis\\children_books.csv\")\n",
    "df.head()"
   ]
  },
  {
   "cell_type": "code",
   "execution_count": null,
   "id": "86d297c8",
   "metadata": {},
   "outputs": [
    {
     "data": {
      "text/plain": [
       "(3096, 5)"
      ]
     },
     "execution_count": 17,
     "metadata": {},
     "output_type": "execute_result"
    }
   ],
   "source": [
    "#Checking size of data(rows and columns)\n",
    "df.shape"
   ]
  },
  {
   "cell_type": "code",
   "execution_count": null,
   "id": "8bffb7d4",
   "metadata": {},
   "outputs": [
    {
     "name": "stdout",
     "output_type": "stream",
     "text": [
      "<class 'pandas.core.frame.DataFrame'>\n",
      "RangeIndex: 3269 entries, 0 to 3268\n",
      "Data columns (total 5 columns):\n",
      " #   Column       Non-Null Count  Dtype \n",
      "---  ------       --------------  ----- \n",
      " 0   Title        3269 non-null   object\n",
      " 1   Author       3096 non-null   object\n",
      " 2   Desc         3269 non-null   object\n",
      " 3   Inerest_age  3269 non-null   object\n",
      " 4   Reading_age  3269 non-null   object\n",
      "dtypes: object(5)\n",
      "memory usage: 127.8+ KB\n"
     ]
    }
   ],
   "source": [
    "#Checking Basic information about data such as datatype, missing values\n",
    "df.info()"
   ]
  },
  {
   "cell_type": "code",
   "execution_count": 33,
   "id": "cca2bdff",
   "metadata": {},
   "outputs": [],
   "source": [
    "#Renaming Column name\n",
    "df.rename(columns={\n",
    "    'Inerest_age': 'interest_age',\n",
    "    'Desc': 'description'\n",
    "}, inplace=True)\n"
   ]
  },
  {
   "cell_type": "code",
   "execution_count": 35,
   "id": "79210869",
   "metadata": {},
   "outputs": [
    {
     "data": {
      "text/plain": [
       "Index(['Title', 'Author', 'description', 'interest_age_range',\n",
       "       'reading_age_range'],\n",
       "      dtype='object')"
      ]
     },
     "execution_count": 35,
     "metadata": {},
     "output_type": "execute_result"
    }
   ],
   "source": [
    "df.columns"
   ]
  },
  {
   "cell_type": "code",
   "execution_count": null,
   "id": "56ccce04",
   "metadata": {},
   "outputs": [],
   "source": [
    "#Removing Row with missing values in Author Column\n",
    "df = df.dropna(subset=['Author'])\n"
   ]
  },
  {
   "cell_type": "code",
   "execution_count": 34,
   "id": "31ddea1d",
   "metadata": {},
   "outputs": [
    {
     "name": "stdout",
     "output_type": "stream",
     "text": [
      "Title                 0\n",
      "Author                0\n",
      "description           0\n",
      "interest_age_range    0\n",
      "reading_age_range     0\n",
      "dtype: int64\n"
     ]
    }
   ],
   "source": [
    "print(df.isnull().sum())\n"
   ]
  },
  {
   "cell_type": "code",
   "execution_count": 19,
   "id": "c4960d2d",
   "metadata": {},
   "outputs": [
    {
     "name": "stdout",
     "output_type": "stream",
     "text": [
      "['10-14 ' '13+ ' '13-18 ' '10+ ' '12+ ' '14+ ' '13-15 ' '11+ ' '8+ '\n",
      " '10-12 ' '9+ ' '7+ ']\n"
     ]
    }
   ],
   "source": [
    "print(df['interest_age'].unique()[:50])\n"
   ]
  },
  {
   "cell_type": "code",
   "execution_count": 20,
   "id": "d1d958c3",
   "metadata": {},
   "outputs": [
    {
     "name": "stdout",
     "output_type": "stream",
     "text": [
      "['10-14                               '\n",
      " '12+                               ' '10+                               '\n",
      " '13                               ' '8+                               '\n",
      " '13+                               ' '11+                               '\n",
      " '14+                               '\n",
      " '10-12                               '\n",
      " '9+                               ']\n"
     ]
    }
   ],
   "source": [
    "print(df['Reading_age'].unique()[:50])\n"
   ]
  },
  {
   "cell_type": "code",
   "execution_count": 22,
   "id": "b9c511a3",
   "metadata": {},
   "outputs": [
    {
     "name": "stderr",
     "output_type": "stream",
     "text": [
      "C:\\Users\\Hp\\AppData\\Local\\Temp\\ipykernel_7084\\103248340.py:1: SettingWithCopyWarning: \n",
      "A value is trying to be set on a copy of a slice from a DataFrame.\n",
      "Try using .loc[row_indexer,col_indexer] = value instead\n",
      "\n",
      "See the caveats in the documentation: https://pandas.pydata.org/pandas-docs/stable/user_guide/indexing.html#returning-a-view-versus-a-copy\n",
      "  df['Reading_age'] = df['Reading_age'].str.strip()\n"
     ]
    }
   ],
   "source": [
    "df['Reading_age'] = df['Reading_age'].str.strip()\n"
   ]
  },
  {
   "cell_type": "code",
   "execution_count": 23,
   "id": "57f36297",
   "metadata": {},
   "outputs": [
    {
     "name": "stdout",
     "output_type": "stream",
     "text": [
      "['10-14' '12+' '10+' '13' '8+' '13+' '11+' '14+' '10-12' '9+']\n"
     ]
    }
   ],
   "source": [
    "print(df['Reading_age'].unique()[:50])\n"
   ]
  },
  {
   "cell_type": "code",
   "execution_count": 26,
   "id": "d8a8df10",
   "metadata": {},
   "outputs": [],
   "source": [
    "def to_range_format(age_str):\n",
    "    if pd.isna(age_str):\n",
    "        return None\n",
    "    age_str = age_str.strip()\n",
    "    \n",
    "    # If x-y, leave as is\n",
    "    if '-' in age_str:\n",
    "        return age_str\n",
    "    \n",
    "    # If x+ or x, convert to x-(x+2)\n",
    "    num = int(re.findall(r'\\d+', age_str)[0])\n",
    "    return f\"{num}-{num+2}\""
   ]
  },
  {
   "cell_type": "code",
   "execution_count": null,
   "id": "e9796c79",
   "metadata": {},
   "outputs": [
    {
     "name": "stderr",
     "output_type": "stream",
     "text": [
      "C:\\Users\\Hp\\AppData\\Local\\Temp\\ipykernel_7084\\825567693.py:1: SettingWithCopyWarning: \n",
      "A value is trying to be set on a copy of a slice from a DataFrame.\n",
      "Try using .loc[row_indexer,col_indexer] = value instead\n",
      "\n",
      "See the caveats in the documentation: https://pandas.pydata.org/pandas-docs/stable/user_guide/indexing.html#returning-a-view-versus-a-copy\n",
      "  df['interest_age_range'] = df['interest_age'].apply(to_range_format)\n",
      "C:\\Users\\Hp\\AppData\\Local\\Temp\\ipykernel_7084\\825567693.py:2: SettingWithCopyWarning: \n",
      "A value is trying to be set on a copy of a slice from a DataFrame.\n",
      "Try using .loc[row_indexer,col_indexer] = value instead\n",
      "\n",
      "See the caveats in the documentation: https://pandas.pydata.org/pandas-docs/stable/user_guide/indexing.html#returning-a-view-versus-a-copy\n",
      "  df['reading_age_range'] = df['Reading_age'].apply(to_range_format)\n"
     ]
    }
   ],
   "source": [
    "df['reading_age_range'] = df['Reading_age'].apply(to_range_format)\n"
   ]
  },
  {
   "cell_type": "code",
   "execution_count": null,
   "id": "b17fa3bf",
   "metadata": {},
   "outputs": [
    {
     "name": "stdout",
     "output_type": "stream",
     "text": [
      "['10-14' '12-14' '10-12' '13-15' '8-10' '11-13' '14-16' '9-11']\n"
     ]
    }
   ],
   "source": [
    "print(df['reading_age_range'].unique())\n"
   ]
  },
  {
   "cell_type": "code",
   "execution_count": null,
   "id": "dd6f4231",
   "metadata": {},
   "outputs": [],
   "source": [
    "df = df.drop(columns=['interest_age', 'reading_age'])\n"
   ]
  },
  {
   "cell_type": "code",
   "execution_count": 40,
   "id": "3a533f98",
   "metadata": {},
   "outputs": [
    {
     "data": {
      "text/html": [
       "<div>\n",
       "<style scoped>\n",
       "    .dataframe tbody tr th:only-of-type {\n",
       "        vertical-align: middle;\n",
       "    }\n",
       "\n",
       "    .dataframe tbody tr th {\n",
       "        vertical-align: top;\n",
       "    }\n",
       "\n",
       "    .dataframe thead th {\n",
       "        text-align: right;\n",
       "    }\n",
       "</style>\n",
       "<table border=\"1\" class=\"dataframe\">\n",
       "  <thead>\n",
       "    <tr style=\"text-align: right;\">\n",
       "      <th></th>\n",
       "      <th>Title</th>\n",
       "      <th>Author</th>\n",
       "      <th>description</th>\n",
       "      <th>reading_age_range</th>\n",
       "    </tr>\n",
       "  </thead>\n",
       "  <tbody>\n",
       "    <tr>\n",
       "      <th>0</th>\n",
       "      <td>The Girl Who Drank the Moon</td>\n",
       "      <td>Kelly Barnhill</td>\n",
       "      <td>Every year, the evil Protectorate offers a bab...</td>\n",
       "      <td>10-14</td>\n",
       "    </tr>\n",
       "    <tr>\n",
       "      <th>1</th>\n",
       "      <td>Time Between Us</td>\n",
       "      <td>Tamara Ireland Stone</td>\n",
       "      <td>Sixteen-year-old Anna is struggling to underst...</td>\n",
       "      <td>12-14</td>\n",
       "    </tr>\n",
       "    <tr>\n",
       "      <th>2</th>\n",
       "      <td>Girl Out of Water</td>\n",
       "      <td>Nat Luurtsema</td>\n",
       "      <td>Lou Brown's swimming ambitions sank without tr...</td>\n",
       "      <td>10-12</td>\n",
       "    </tr>\n",
       "    <tr>\n",
       "      <th>3</th>\n",
       "      <td>Captive</td>\n",
       "      <td>A J Grainger</td>\n",
       "      <td>Robyn is scared. Ever since the attempted assa...</td>\n",
       "      <td>13-15</td>\n",
       "    </tr>\n",
       "    <tr>\n",
       "      <th>4</th>\n",
       "      <td>The School of Music</td>\n",
       "      <td>Rachel Bowen and Meurig Bowen Illustrator: Dan...</td>\n",
       "      <td>Welcome to the School of Music. In charge is M...</td>\n",
       "      <td>10-12</td>\n",
       "    </tr>\n",
       "  </tbody>\n",
       "</table>\n",
       "</div>"
      ],
      "text/plain": [
       "                         Title  \\\n",
       "0  The Girl Who Drank the Moon   \n",
       "1              Time Between Us   \n",
       "2            Girl Out of Water   \n",
       "3                      Captive   \n",
       "4          The School of Music   \n",
       "\n",
       "                                              Author  \\\n",
       "0                                     Kelly Barnhill   \n",
       "1                               Tamara Ireland Stone   \n",
       "2                                      Nat Luurtsema   \n",
       "3                                       A J Grainger   \n",
       "4  Rachel Bowen and Meurig Bowen Illustrator: Dan...   \n",
       "\n",
       "                                         description reading_age_range  \n",
       "0  Every year, the evil Protectorate offers a bab...             10-14  \n",
       "1  Sixteen-year-old Anna is struggling to underst...             12-14  \n",
       "2  Lou Brown's swimming ambitions sank without tr...             10-12  \n",
       "3  Robyn is scared. Ever since the attempted assa...             13-15  \n",
       "4  Welcome to the School of Music. In charge is M...             10-12  "
      ]
     },
     "execution_count": 40,
     "metadata": {},
     "output_type": "execute_result"
    }
   ],
   "source": [
    "df.head()"
   ]
  },
  {
   "cell_type": "code",
   "execution_count": 43,
   "id": "9f3ee9a9",
   "metadata": {},
   "outputs": [],
   "source": [
    "STOPWORDS = set(stopwords.words('english'))"
   ]
  },
  {
   "cell_type": "code",
   "execution_count": 44,
   "id": "cad38347",
   "metadata": {},
   "outputs": [],
   "source": [
    "# Clean description text\n",
    "def clean_text(text):\n",
    "    text = re.sub(r'[^a-zA-Z\\s]', '', text)  # remove punctuation/numbers\n",
    "    return text.lower().strip()\n",
    "\n",
    "df['clean_description'] = df['description'].apply(clean_text)"
   ]
  },
  {
   "cell_type": "code",
   "execution_count": 45,
   "id": "4830cde9",
   "metadata": {},
   "outputs": [],
   "source": [
    "# Convert descriptions into TF-IDF features\n",
    "vectorizer = TfidfVectorizer(stop_words='english', max_df=0.8, min_df=5)\n",
    "X = vectorizer.fit_transform(df['clean_description'])"
   ]
  },
  {
   "cell_type": "code",
   "execution_count": 46,
   "id": "1f732626",
   "metadata": {},
   "outputs": [
    {
     "name": "stderr",
     "output_type": "stream",
     "text": [
      "d:\\Story-Spark-AI\\venv\\Lib\\site-packages\\sklearn\\decomposition\\_nmf.py:1728: ConvergenceWarning: Maximum number of iterations 200 reached. Increase it to improve convergence.\n",
      "  warnings.warn(\n"
     ]
    }
   ],
   "source": [
    "# Use NMF to extract latent topics\n",
    "n_topics = 8\n",
    "nmf = NMF(n_components=n_topics, random_state=42)\n",
    "W = nmf.fit_transform(X)\n",
    "H = nmf.components_"
   ]
  },
  {
   "cell_type": "code",
   "execution_count": 47,
   "id": "4205f827",
   "metadata": {},
   "outputs": [],
   "source": [
    "terms = vectorizer.get_feature_names_out()\n"
   ]
  },
  {
   "cell_type": "code",
   "execution_count": 48,
   "id": "82b5d5a3",
   "metadata": {},
   "outputs": [],
   "source": [
    "# Function to show top words per theme\n",
    "def show_topics(H, terms, num_words=10):\n",
    "    for i, topic in enumerate(H):\n",
    "        top_words = [terms[j] for j in topic.argsort()[:-num_words - 1:-1]]\n",
    "        print(f\"Theme {i+1}: {' | '.join(top_words)}\\n\")\n",
    "\n"
   ]
  },
  {
   "cell_type": "code",
   "execution_count": 49,
   "id": "c2c51e45",
   "metadata": {},
   "outputs": [
    {
     "name": "stdout",
     "output_type": "stream",
     "text": [
      "Theme 1: year | feels | amy | ambers | life | roger | grief | bennett | fall | friend\n",
      "\n",
      "Theme 2: people | strange | frank | school | bullied | fun | huge | nick | families | genre\n",
      "\n",
      "Theme 3: frankenstein | human | dramatic | version | new | victor | creature | monster | monstrous | man\n",
      "\n",
      "Theme 4: mary | meg | queen | scots | jenny | court | historical | young | intrigue | french\n",
      "\n",
      "Theme 5: london | cole | vividly | rory | away | play | shakespeare | new | series | east\n",
      "\n",
      "Theme 6: ro | time | charley | way | hawke | book | robyn | doesnt | mother | just\n",
      "\n",
      "Theme 7: father | dory | novel | zan | ben | oppel | bens | cassandra | sister | existence\n",
      "\n",
      "Theme 8: caz | lake | feeling | frozen | district | spirit | local | end | landscape | grief\n",
      "\n"
     ]
    }
   ],
   "source": [
    "show_topics(H, terms)"
   ]
  },
  {
   "cell_type": "code",
   "execution_count": 50,
   "id": "332c2c2f",
   "metadata": {},
   "outputs": [],
   "source": [
    "# Function to extract nouns from text\n",
    "def extract_nouns(text):\n",
    "    tokens = [w for w in word_tokenize(text) if w.isalpha()]\n",
    "    tokens = [w.lower() for w in tokens if w not in STOPWORDS]\n",
    "    tags = pos_tag(tokens)\n",
    "    return [word for (word, tag) in tags if tag.startswith('NN')]\n"
   ]
  },
  {
   "cell_type": "code",
   "execution_count": 51,
   "id": "ffc4cc1d",
   "metadata": {},
   "outputs": [],
   "source": [
    "# Apply to descriptions\n",
    "df['nouns'] = df['clean_description'].apply(extract_nouns)"
   ]
  },
  {
   "cell_type": "code",
   "execution_count": 52,
   "id": "98ff7afb",
   "metadata": {},
   "outputs": [],
   "source": [
    "# Flatten list and count frequency\n",
    "all_nouns = [n for nouns in df['nouns'] for n in nouns]\n",
    "noun_counts = Counter(all_nouns)"
   ]
  },
  {
   "cell_type": "code",
   "execution_count": 53,
   "id": "2f12070c",
   "metadata": {},
   "outputs": [
    {
     "name": "stdout",
     "output_type": "stream",
     "text": [
      "[('life', 1763), ('school', 1585), ('story', 1337), ('book', 1226), ('time', 1139), ('things', 1057), ('world', 977), ('family', 888), ('readers', 797), ('people', 797), ('something', 626), ('characters', 622), ('friend', 621), ('man', 535), ('friendship', 534), ('series', 532), ('mother', 529), ('ro', 528), ('way', 527), ('year', 447)]\n"
     ]
    }
   ],
   "source": [
    "# Show top 20 nouns\n",
    "print(noun_counts.most_common(20))"
   ]
  },
  {
   "cell_type": "code",
   "execution_count": 54,
   "id": "97d5c129",
   "metadata": {},
   "outputs": [
    {
     "data": {
      "image/png": "[encoded data removed]",
      "text/plain": [
       "<Figure size 1000x500 with 1 Axes>"
      ]
     },
     "metadata": {},
     "output_type": "display_data"
    }
   ],
   "source": [
    "top_nouns = dict(noun_counts.most_common(15))\n",
    "plt.figure(figsize=(10,5))\n",
    "plt.bar(top_nouns.keys(), top_nouns.values())\n",
    "plt.xticks(rotation=45)\n",
    "plt.title(\"Most Common Character Roles / Archetypes in Children's Books\")\n",
    "plt.ylabel(\"Frequency\")\n",
    "plt.show()\n"
   ]
  },
  {
   "cell_type": "code",
   "execution_count": null,
   "id": "43dd24c6",
   "metadata": {},
   "outputs": [],
   "source": []
  }
 ],
 "metadata": {
  "kernelspec": {
   "display_name": "venv",
   "language": "python",
   "name": "python3"
  },
  "language_info": {
   "codemirror_mode": {
    "name": "ipython",
    "version": 3
   },
   "file_extension": ".py",
   "mimetype": "text/x-python",
   "name": "python",
   "nbconvert_exporter": "python",
   "pygments_lexer": "ipython3",
   "version": "3.13.7"
  }
 },
 "nbformat": 4,
 "nbformat_minor": 5
}
